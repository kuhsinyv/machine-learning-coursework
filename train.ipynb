{
 "cells": [
  {
   "cell_type": "code",
   "execution_count": 7,
   "metadata": {},
   "outputs": [],
   "source": [
    "import os\n",
    "\n",
    "import numpy as np\n",
    "\n",
    "from nn import losses, networks, optimizers\n",
    "from utils.dataloader import MnistDataloader, batch_generator"
   ]
  },
  {
   "cell_type": "code",
   "execution_count": 8,
   "metadata": {},
   "outputs": [],
   "source": [
    "def one_hot_encode(labels, num_classes=10):\n",
    "    one_hot_labels = np.zeros((len(labels), num_classes))\n",
    "    one_hot_labels[np.arange(len(labels)), labels] = 1\n",
    "    return one_hot_labels"
   ]
  },
  {
   "cell_type": "code",
   "execution_count": 9,
   "metadata": {},
   "outputs": [],
   "source": [
    "def preprocess():\n",
    "    input_path = r\"MNIST\"\n",
    "    training_images_filepath = os.path.join(\n",
    "        input_path, r\"train-images-idx3-ubyte/train-images-idx3-ubyte\")\n",
    "    training_labels_filepath = os.path.join(\n",
    "        input_path, r\"train-labels-idx1-ubyte/train-labels-idx1-ubyte\")\n",
    "    test_images_filepath = os.path.join(\n",
    "        input_path, r\"t10k-images-idx3-ubyte/t10k-images-idx3-ubyte\")\n",
    "    test_labels_filepath = os.path.join(\n",
    "        input_path, r\"t10k-labels-idx1-ubyte/t10k-labels-idx1-ubyte\")\n",
    "    mnist_dataloader = MnistDataloader(training_images_filepath,\n",
    "                                    training_labels_filepath,\n",
    "                                    test_images_filepath, test_labels_filepath)\n",
    "    (x_train, y_train), (x_test, y_test) = mnist_dataloader.load_data()\n",
    "    x_train = np.array(x_train).reshape((len(x_train), 784)) / 255.0\n",
    "    x_test = np.array(x_test).reshape((len(x_test), 784)) / 255.0\n",
    "    y_train = one_hot_encode(np.array(y_train).reshape(len(y_train)), 10)\n",
    "    y_test = one_hot_encode(np.array(y_test).reshape(len(y_test)), 10)\n",
    "    return (x_train, y_train), (x_test, y_test)"
   ]
  },
  {
   "cell_type": "code",
   "execution_count": 10,
   "metadata": {},
   "outputs": [],
   "source": [
    "(x_train, y_train), (x_test, y_test) = preprocess()"
   ]
  },
  {
   "cell_type": "code",
   "execution_count": 11,
   "metadata": {},
   "outputs": [],
   "source": [
    "net = networks.DNN(layers=[784, 128, 64, 32, 10], initializer=\"he_uniform\")\n",
    "criterion = losses.CrossEntropyLoss(\"mean\")\n",
    "optimizer = optimizers.SGD(parameters=net.parameters, lr=0.01)"
   ]
  },
  {
   "cell_type": "code",
   "execution_count": 12,
   "metadata": {},
   "outputs": [
    {
     "name": "stdout",
     "output_type": "stream",
     "text": [
      "epoch:   1, loss: 4.603426, accuracy: 0.790100, test accuracy: 0.903200\n",
      "epoch:   2, loss: 1.980588, accuracy: 0.911367, test accuracy: 0.923000\n",
      "epoch:   3, loss: 1.614014, accuracy: 0.927367, test accuracy: 0.934500\n",
      "epoch:   4, loss: 1.385120, accuracy: 0.937700, test accuracy: 0.941300\n"
     ]
    }
   ],
   "source": [
    "for epoch in range(1, 100 + 1):\n",
    "    epoch_loss = 0.0\n",
    "    total_step = 0\n",
    "    \n",
    "    total = 0\n",
    "    correct = 0\n",
    "    \n",
    "    for step, (x, y) in enumerate(\n",
    "            batch_generator(x_train, y_train, batch_size=64, shuffle=True)):\n",
    "        x = x.T.copy()\n",
    "        y = y.T.copy()\n",
    "        \n",
    "        optimizer.zero_grad()\n",
    "        y_pred = net(x)\n",
    "        loss = criterion(y_pred, y)\n",
    "        net.backward(criterion.backward())\n",
    "        optimizer.step()\n",
    "        \n",
    "        epoch_loss += loss\n",
    "        total_step += 1\n",
    "        step_total = y_pred.shape[1]\n",
    "        step_correct = np.equal(y_pred.argmax(axis=0, keepdims=True),\n",
    "                                y.argmax(axis=0, keepdims=True)).sum()\n",
    "        step_accuracy = step_correct / step_total\n",
    "        total += step_total\n",
    "        correct += step_correct\n",
    "\n",
    "    test_total = 0\n",
    "    test_correct = 0\n",
    "    for _, (x, y) in enumerate(\n",
    "            batch_generator(x_test, y_test, batch_size=32, shuffle=True)):\n",
    "        x = x.T.copy()\n",
    "        y = y.T.copy()\n",
    "        \n",
    "        y_pred = net(x)\n",
    "        \n",
    "        test_total += y_pred.shape[1]\n",
    "        test_correct += np.equal(y_pred.argmax(axis=0, keepdims=True),\n",
    "                                 y.argmax(axis=0, keepdims=True)).sum()\n",
    "    test_accuracy = test_correct / test_total\n",
    "\n",
    "    epoch_loss /= total_step\n",
    "    accuracy = correct / total\n",
    "    \n",
    "    print(\n",
    "        f\"epoch: {epoch:>3d}, loss: {epoch_loss:.6f}, accuracy: {accuracy:.6f}, test accuracy: {test_accuracy:.6f}\"\n",
    "    )"
   ]
  }
 ],
 "metadata": {
  "kernelspec": {
   "display_name": "dev",
   "language": "python",
   "name": "python3"
  },
  "language_info": {
   "codemirror_mode": {
    "name": "ipython",
    "version": 3
   },
   "file_extension": ".py",
   "mimetype": "text/x-python",
   "name": "python",
   "nbconvert_exporter": "python",
   "pygments_lexer": "ipython3",
   "version": "3.11.5"
  }
 },
 "nbformat": 4,
 "nbformat_minor": 2
}
